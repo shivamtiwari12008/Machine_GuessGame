{
 "cells": [
  {
   "cell_type": "code",
   "execution_count": 1,
   "id": "91e55ae4",
   "metadata": {},
   "outputs": [],
   "source": [
    "import random"
   ]
  },
  {
   "cell_type": "code",
   "execution_count": 2,
   "id": "6d59e4ff",
   "metadata": {},
   "outputs": [
    {
     "name": "stdout",
     "output_type": "stream",
     "text": [
      " Is this given number 6 too High(H) too Low(L) or Correct(C)l\n",
      " Is this given number 2 too High(H) too Low(L) or Correct(C)l\n",
      " Is this given number 6 too High(H) too Low(L) or Correct(C)l\n",
      " Is this given number 9 too High(H) too Low(L) or Correct(C)h\n",
      " Is this given number 8 too High(H) too Low(L) or Correct(C)h\n",
      " Is this given number 6 too High(H) too Low(L) or Correct(C)l\n",
      " Is this given number 7 too High(H) too Low(L) or Correct(C)c\n",
      "computer guess the number7 right\n"
     ]
    }
   ],
   "source": [
    "def computer_guess(x):\n",
    "    low=1\n",
    "    high=x\n",
    "    feedback=''\n",
    "    while feedback!='c':\n",
    "        guess= random.randint(low,high)\n",
    "        feedback=input(f\" Is this given number {guess} too High(H) too Low(L) or Correct(C)\").lower()\n",
    "        if feedback=='h':\n",
    "            high=guess-1\n",
    "        elif feedback=='l':\n",
    "            low = low+1\n",
    "    print(f\"computer guess the number{guess} right\")\n",
    "computer_guess(10)"
   ]
  }
 ],
 "metadata": {
  "kernelspec": {
   "display_name": "Python 3 (ipykernel)",
   "language": "python",
   "name": "python3"
  },
  "language_info": {
   "codemirror_mode": {
    "name": "ipython",
    "version": 3
   },
   "file_extension": ".py",
   "mimetype": "text/x-python",
   "name": "python",
   "nbconvert_exporter": "python",
   "pygments_lexer": "ipython3",
   "version": "3.11.5"
  }
 },
 "nbformat": 4,
 "nbformat_minor": 5
}
